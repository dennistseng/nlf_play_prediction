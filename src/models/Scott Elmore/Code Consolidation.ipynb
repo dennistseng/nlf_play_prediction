{
 "cells": [
  {
   "cell_type": "code",
   "execution_count": null,
   "outputs": [],
   "source": [
    "# imports\n",
    "import pandas as pd\n",
    "import numpy as np\n",
    "\n",
    "# show multiple outputs from one cell\n",
    "from IPython.core.interactiveshell import InteractiveShell\n",
    "InteractiveShell.ast_node_interactivity = \"all\""
   ],
   "metadata": {
    "collapsed": false,
    "pycharm": {
     "name": "#%%\n"
    }
   }
  },
  {
   "cell_type": "markdown",
   "source": [
    "### Read in Vegas Odds Data"
   ],
   "metadata": {
    "collapsed": false
   }
  },
  {
   "cell_type": "code",
   "execution_count": null,
   "outputs": [],
   "source": [
    "combined_odds_df = pd.DataFrame()"
   ],
   "metadata": {
    "collapsed": false,
    "pycharm": {
     "name": "#%%\n"
    }
   }
  },
  {
   "cell_type": "code",
   "execution_count": null,
   "outputs": [],
   "source": [
    "# adjust year to get all excel files\n",
    "# year = '2009-10'\n",
    "# year = '2010-11'\n",
    "# year = '2011-12'\n",
    "# year = '2012-13'\n",
    "# year = '2013-14'\n",
    "# year = '2014-15'\n",
    "# year = '2015-16'\n",
    "# year = '2016-17'\n",
    "# year = '2017-18'\n",
    "# year = '2018-19'\n",
    "year = '2019-20'"
   ],
   "metadata": {
    "collapsed": false,
    "pycharm": {
     "name": "#%%\n"
    }
   }
  },
  {
   "cell_type": "code",
   "execution_count": null,
   "outputs": [],
   "source": [
    "# read from local drive with excel files\n",
    "odds_year = pd.read_excel('nfl odds ' + year + '.xlsx')"
   ],
   "metadata": {
    "collapsed": false,
    "pycharm": {
     "name": "#%%\n"
    }
   }
  },
  {
   "cell_type": "code",
   "execution_count": null,
   "outputs": [],
   "source": [
    "def to_date(dt):\n",
    "    d = str(dt)[-2:]\n",
    "    m = str(dt)[:-2]\n",
    "    y = year.split('-')[0]\n",
    "    if int(m) < 3:\n",
    "        y = str(int(y) + 1)\n",
    "        m = '0' + m\n",
    "    date = y + m + d\n",
    "    return pd.to_datetime(date, format='%Y%m%d')"
   ],
   "metadata": {
    "collapsed": false,
    "pycharm": {
     "name": "#%%\n"
    }
   }
  },
  {
   "cell_type": "code",
   "execution_count": null,
   "outputs": [],
   "source": [
    "odds_year['Date'] = odds_year['Date'].apply(to_date)"
   ],
   "metadata": {
    "collapsed": false,
    "pycharm": {
     "name": "#%%\n"
    }
   }
  },
  {
   "cell_type": "code",
   "execution_count": null,
   "outputs": [],
   "source": [
    "def to_abbr(tm):\n",
    "    team_dict = {\n",
    "        'GreenBay' : 'GB',\n",
    "        'Chicago' : 'CHI',\n",
    "        'Atlanta' : 'ATL',\n",
    "        'Minnesota' : 'MIN',\n",
    "        'Washington' : 'WAS',\n",
    "        'Philadelphia' : 'PHI',\n",
    "        'Buffalo' : 'BUF',\n",
    "        'BuffaloBills' : 'BUF',\n",
    "        'NYJets' : 'NYJ',\n",
    "        'NewYork' : 'NYG',\n",
    "        'Baltimore' : 'BAL',\n",
    "        'Miami' : 'MIA',\n",
    "        'SanFrancisco' : 'SF',\n",
    "        'TampaBay' : 'TB',\n",
    "        'KansasCity' : 'KC',\n",
    "        'Jacksonville' : 'JAX',\n",
    "        'Tennessee' : 'TEN',\n",
    "        'Cleveland' : 'CLE',\n",
    "        'LARams' : 'LA',\n",
    "        'LosAngeles' : 'LA',\n",
    "        'St.Louis' : 'STL',\n",
    "        'Carolina' : 'CAR',\n",
    "        'Detroit' : 'DET',\n",
    "        'Arizona' : 'ARI',\n",
    "        'Cincinnati' : 'CIN',\n",
    "        'Seattle' : 'SEA',\n",
    "        'Indianapolis' : 'IND',\n",
    "        'LAChargers' : 'LAC',\n",
    "        'SanDiego' : 'SD',\n",
    "        'NYGiants' : 'NYG',\n",
    "        'Dallas' : 'DAL',\n",
    "        'Pittsburgh' : 'PIT',\n",
    "        'NewEngland' : 'NE',\n",
    "        'Houston' : 'HOU',\n",
    "        'NewOrleans' : 'NO',\n",
    "        'Denver' : 'DEN',\n",
    "        'Oakland' : 'OAK'\n",
    "    }\n",
    "    return team_dict[tm]"
   ],
   "metadata": {
    "collapsed": false,
    "pycharm": {
     "name": "#%%\n"
    }
   }
  },
  {
   "cell_type": "code",
   "execution_count": null,
   "outputs": [],
   "source": [
    "odds_year['Team'] = odds_year['Team'].apply(to_abbr)"
   ],
   "metadata": {
    "collapsed": false,
    "pycharm": {
     "name": "#%%\n"
    }
   }
  },
  {
   "cell_type": "code",
   "execution_count": null,
   "outputs": [],
   "source": [
    "odds_year.loc[(odds_year['Close'] == 'pk'), 'Close'] = 0"
   ],
   "metadata": {
    "collapsed": false,
    "pycharm": {
     "name": "#%%\n"
    }
   }
  },
  {
   "cell_type": "code",
   "execution_count": null,
   "outputs": [],
   "source": [
    "odds_year[['Close', 'ML']] = odds_year[['Close', 'ML']].astype(float)"
   ],
   "metadata": {
    "collapsed": false,
    "pycharm": {
     "name": "#%%\n"
    }
   }
  },
  {
   "cell_type": "markdown",
   "source": [
    "#### Create win probabilty and projected points fields"
   ],
   "metadata": {
    "collapsed": false
   }
  },
  {
   "cell_type": "code",
   "execution_count": null,
   "outputs": [],
   "source": [
    "def setVorH(row):\n",
    "    if row.name % 2 == 0:\n",
    "        return 'V'\n",
    "    else:\n",
    "        return 'H'\n",
    "\n",
    "odds_year['VH'] = odds_year.apply(setVorH, axis=1)"
   ],
   "metadata": {
    "collapsed": false,
    "pycharm": {
     "name": "#%%\n"
    }
   }
  },
  {
   "cell_type": "code",
   "execution_count": null,
   "outputs": [],
   "source": [
    "pr_pts = []\n",
    "wps = []\n",
    "for idx, row in odds_year.iterrows():\n",
    "    if row['ML'] > 0:\n",
    "        total = row['Close']\n",
    "        if row['VH'] == 'V':\n",
    "            spd = odds_year.iloc[idx+1]['Close']\n",
    "        else:\n",
    "            spd = odds_year.iloc[idx-1]['Close']\n",
    "        proj_pts = (total - spd) / 2\n",
    "        win_pb = 100 / (row['ML'] + 100)\n",
    "    else:\n",
    "        spd = row['Close']\n",
    "        if row['VH'] == 'V':\n",
    "            total = odds_year.iloc[idx+1]['Close']\n",
    "        else:\n",
    "            total = odds_year.iloc[idx-1]['Close']\n",
    "        proj_pts = (total + spd) / 2\n",
    "        win_pb = -row['ML'] / (100 - row['ML'])\n",
    "\n",
    "    pr_pts.append(proj_pts)\n",
    "    wps.append(win_pb)\n",
    "\n",
    "odds_year['Projected Pts'] = pr_pts\n",
    "odds_year['Win Prob'] = wps"
   ],
   "metadata": {
    "collapsed": false,
    "pycharm": {
     "name": "#%%\n"
    }
   }
  },
  {
   "cell_type": "code",
   "execution_count": null,
   "outputs": [],
   "source": [
    "# append all yearly dataframes\n",
    "combined_odds_df = combined_odds_df.append(odds_year, ignore_index=True)"
   ],
   "metadata": {
    "collapsed": false,
    "pycharm": {
     "name": "#%%\n"
    }
   }
  },
  {
   "cell_type": "code",
   "execution_count": null,
   "outputs": [],
   "source": [
    "combined_odds_df['Date'] = pd.to_datetime(combined_odds_df['Date'])"
   ],
   "metadata": {
    "collapsed": false,
    "pycharm": {
     "name": "#%%\n"
    }
   }
  },
  {
   "cell_type": "code",
   "execution_count": null,
   "outputs": [],
   "source": [
    "combined_odds_df.isna().sum()"
   ],
   "metadata": {
    "collapsed": false,
    "pycharm": {
     "name": "#%%\n"
    }
   }
  },
  {
   "cell_type": "code",
   "execution_count": null,
   "outputs": [],
   "source": [
    "consolidated_output = pd.read_csv('ConsolidateOutput.csv')"
   ],
   "metadata": {
    "collapsed": false,
    "pycharm": {
     "name": "#%%\n"
    }
   }
  },
  {
   "cell_type": "code",
   "execution_count": null,
   "outputs": [],
   "source": [
    "consolidated_output['game_date'] = pd.to_datetime(consolidated_output['game_date'])"
   ],
   "metadata": {
    "collapsed": false,
    "pycharm": {
     "name": "#%%\n"
    }
   }
  },
  {
   "cell_type": "code",
   "execution_count": null,
   "outputs": [],
   "source": [
    "combined_df = pd.merge_asof(consolidated_output, combined_odds_df[['Date', 'Team', 'Projected Pts', 'Win Prob']], left_on='game_date', right_on='Date', left_by='posteam', right_by='Team', tolerance=pd.Timedelta('3days'), direction='nearest')"
   ],
   "metadata": {
    "collapsed": false,
    "pycharm": {
     "name": "#%%\n"
    }
   }
  },
  {
   "cell_type": "code",
   "execution_count": null,
   "outputs": [],
   "source": [
    "x = combined_df[combined_df['posteam'].isna() == False]\n",
    "x[['Win Prob', 'Projected Pts']].isna().sum()"
   ],
   "metadata": {
    "collapsed": false,
    "pycharm": {
     "name": "#%%\n"
    }
   }
  },
  {
   "cell_type": "code",
   "execution_count": null,
   "outputs": [],
   "source": [
    "combined_df.to_csv('ConsolidateOutput_plus_WP.csv')"
   ],
   "metadata": {
    "collapsed": false,
    "pycharm": {
     "name": "#%%\n"
    }
   }
  },
  {
   "cell_type": "markdown",
   "source": [
    "### Create Adjusted Win Probability and Point Scored vs Pace Metrics"
   ],
   "metadata": {
    "collapsed": false
   }
  },
  {
   "cell_type": "code",
   "execution_count": null,
   "outputs": [],
   "source": [
    "pbp = combined_df"
   ],
   "metadata": {
    "collapsed": false,
    "pycharm": {
     "name": "#%%\n"
    }
   }
  },
  {
   "cell_type": "code",
   "execution_count": null,
   "outputs": [],
   "source": [
    "condensed_pbp = pbp[['play_id', 'game_id', 'posteam', 'defteam', 'yardline_100', 'game_seconds_remaining', 'drive', 'down', 'goal_to_go', 'ydstogo', 'ydsnet', 'play_type', 'yards_gained', 'shotgun', 'qb_scramble', 'pass_length', 'pass_location', 'air_yards', 'run_location', 'run_gap', 'posteam_timeouts_remaining','defteam_timeouts_remaining', 'posteam_score', 'defteam_score', 'score_differential', 'ep', 'epa', 'air_epa', 'yac_epa', 'comp_air_epa', 'comp_yac_epa', 'wp', 'wpa', 'air_wpa', 'comp_yac_wpa', 'incomplete_pass', 'interception', 'fumble_forced', 'penalty', 'qb_hit', 'sack', 'touchdown', 'complete_pass', 'penalty_team', 'penalty_yards', 'Projected Pts', 'Win Prob']]"
   ],
   "metadata": {
    "collapsed": false,
    "pycharm": {
     "name": "#%%\n"
    }
   }
  },
  {
   "cell_type": "code",
   "execution_count": null,
   "outputs": [],
   "source": [
    "condensed_pbp.dropna(subset=['posteam', 'posteam_score'], inplace=True)\n",
    "condensed_pbp['wp'] = condensed_pbp['wp'].fillna(method='bfill')\n",
    "condensed_pbp['wpa'] = condensed_pbp['wpa'].fillna(0)"
   ],
   "metadata": {
    "collapsed": false,
    "pycharm": {
     "name": "#%%\n"
    }
   }
  },
  {
   "cell_type": "code",
   "execution_count": null,
   "outputs": [],
   "source": [
    "condensed_pbp.isna().sum()"
   ],
   "metadata": {
    "collapsed": false,
    "pycharm": {
     "name": "#%%\n"
    }
   }
  },
  {
   "cell_type": "code",
   "execution_count": null,
   "outputs": [],
   "source": [
    "game_breakdown = condensed_pbp.groupby('game_id')"
   ],
   "metadata": {
    "collapsed": false,
    "pycharm": {
     "name": "#%%\n"
    }
   }
  },
  {
   "cell_type": "markdown",
   "source": [
    "#### Breakdown by game in order to calculate metrics"
   ],
   "metadata": {
    "collapsed": false
   }
  },
  {
   "cell_type": "code",
   "execution_count": null,
   "outputs": [],
   "source": [
    "game_df_dict = {}\n",
    "\n",
    "for name, game in game_breakdown:\n",
    "    game['pt_pace'] = (3600 - game['game_seconds_remaining']) / 3600 * game['Projected Pts']\n",
    "    game['pts_scored_vs_pace'] = game['posteam_score'] - game['pt_pace']\n",
    "    game = game.reset_index()\n",
    "    game_df_dict[name] = game.copy(deep=True)"
   ],
   "metadata": {
    "collapsed": false,
    "pycharm": {
     "name": "#%%\n"
    }
   }
  },
  {
   "cell_type": "code",
   "execution_count": null,
   "outputs": [],
   "source": [
    "# iterate by team by game\n",
    "for game in game_df_dict.values():\n",
    "    prev_team = game.loc[0, 'posteam']\n",
    "\n",
    "    for idx, row in game.iterrows():\n",
    "        if idx == 0:\n",
    "            game['adj_wp'] = game['Win Prob']\n",
    "            game['def_team_pts_scored_vs_pace'] = game['pts_scored_vs_pace']\n",
    "            continue\n",
    "\n",
    "        if row['posteam'] != prev_team:\n",
    "            wpa = game.loc[idx-1, 'wpa']\n",
    "        else:\n",
    "            wpa = row['wp'] - game.loc[idx-1, 'wp']\n",
    "\n",
    "        if game.loc[idx-1, 'wp'] >= .99 or game.loc[idx-1, 'wp'] <= .01:\n",
    "            modifier = 0\n",
    "        else:\n",
    "            modifier = 1\n",
    "            if game.loc[idx-1, 'adj_wp'] >= game.loc[idx-1, 'wp']:\n",
    "                if wpa > 0:\n",
    "                    modifier = 1 - (((game.loc[idx-1, 'adj_wp'] - game.loc[idx-1, 'wp']) / (game.loc[idx-1, 'wp'])) * (row['game_seconds_remaining'] / 3600))\n",
    "            else:\n",
    "                if wpa < 0:\n",
    "                    modifier = 1 - (((game.loc[idx-1, 'wp'] - game.loc[idx-1, 'adj_wp']) / (game.loc[idx-1, 'wp'])) * (row['game_seconds_remaining'] / 3600))\n",
    "\n",
    "        adj_wp = (game.loc[idx-1, 'adj_wp'] + (wpa * modifier))\\\n",
    "\n",
    "        if row['posteam'] != prev_team:\n",
    "            game.loc[idx, 'adj_wp'] = 1 - adj_wp\n",
    "            game.loc[idx, 'def_team_pts_scored_vs_pace'] = game.loc[idx - 1, 'pts_scored_vs_pace']\n",
    "        else:\n",
    "            game.loc[idx, 'adj_wp'] = adj_wp\n",
    "            game.loc[idx, 'def_team_pts_scored_vs_pace'] = game.loc[idx - 1, 'def_team_pts_scored_vs_pace']\n",
    "\n",
    "        prev_team = row['posteam']"
   ],
   "metadata": {
    "collapsed": false,
    "pycharm": {
     "name": "#%%\n"
    }
   }
  },
  {
   "cell_type": "code",
   "execution_count": null,
   "outputs": [],
   "source": [
    "new_features = pd.DataFrame()\n",
    "\n",
    "for game in game_df_dict.values():\n",
    "    relevant_df = game[['play_id', 'game_id', 'pts_scored_vs_pace', 'def_team_pts_scored_vs_pace', 'adj_wp']]\n",
    "    new_features = new_features.append(relevant_df, ignore_index=True)"
   ],
   "metadata": {
    "collapsed": false,
    "pycharm": {
     "name": "#%%\n"
    }
   }
  },
  {
   "cell_type": "code",
   "execution_count": null,
   "outputs": [],
   "source": [
    "# add new features to dataset\n",
    "new_features.to_csv('adjWP_PTpace.csv')\n"
   ],
   "metadata": {
    "collapsed": false,
    "pycharm": {
     "name": "#%%\n"
    }
   }
  }
 ],
 "metadata": {
  "kernelspec": {
   "name": "pycharm-eb9e9a2d",
   "language": "python",
   "display_name": "PyCharm (DSC478)"
  },
  "language_info": {
   "codemirror_mode": {
    "name": "ipython",
    "version": 2
   },
   "file_extension": ".py",
   "mimetype": "text/x-python",
   "name": "python",
   "nbconvert_exporter": "python",
   "pygments_lexer": "ipython2",
   "version": "2.7.6"
  }
 },
 "nbformat": 4,
 "nbformat_minor": 0
}