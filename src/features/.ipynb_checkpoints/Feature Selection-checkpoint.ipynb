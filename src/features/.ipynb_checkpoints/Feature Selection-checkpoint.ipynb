{
 "cells": [
  {
   "cell_type": "markdown",
   "metadata": {},
   "source": [
    "# Load Packages"
   ]
  },
  {
   "cell_type": "code",
   "execution_count": 20,
   "metadata": {},
   "outputs": [],
   "source": [
    "import numpy as np\n",
    "import pandas as pd\n",
    "import os\n",
    "import seaborn as sns\n",
    "import matplotlib.pyplot as plt\n",
    "import scipy.stats as ss\n",
    "from collections import Counter\n",
    "import math\n",
    "from scipy import stats\n",
    "%matplotlib inline\n",
    "\n",
    "# Feature Selection general package imports\n",
    "from sklearn.feature_selection import SelectFromModel\n",
    "from sklearn.preprocessing import StandardScaler, MinMaxScaler\n",
    "\n",
    "# We probably don't need gridlines, but if we do comment this line\n",
    "sns.set(style='ticks')\n",
    "\n",
    "flatui = [\"#9b59b6\", \"#3498db\", \"#95a5a6\", \"#e74c3c\", \"#34495e\", \"#2ecc71\"]\n",
    "flatui = sns.color_palette(flatui)"
   ]
  },
  {
   "cell_type": "markdown",
   "metadata": {},
   "source": [
    "# Set Up Parameters"
   ]
  },
  {
   "cell_type": "code",
   "execution_count": 17,
   "metadata": {},
   "outputs": [],
   "source": [
    "# If you want to hard limit features selected, or if feature selection methods require a max:\n",
    "num_feats = 50\n",
    "\n",
    "# Classification or Regression Togggle\n",
    "classification_toggle = 1"
   ]
  },
  {
   "cell_type": "markdown",
   "metadata": {},
   "source": [
    "# Read Data and Preprocess"
   ]
  },
  {
   "cell_type": "code",
   "execution_count": 21,
   "metadata": {},
   "outputs": [],
   "source": [
    "# Read dataframe\n",
    "\n",
    "data = pd.read_csv(\"../../data/clean/model_plays.csv\", low_memory = False)\n",
    "\n",
    "# Test for run and pass predictors. Comment out if we don't want this\n",
    "data = data[((data['target'] == 'run') |  (data['target'] == 'pass'))]\n",
    "\n",
    "# Remove labels\n",
    "del data['play_id']\n",
    "del data['game_id']\n",
    "\n",
    "# Separate Target from dataset\n",
    "#firstdata['target'] = data['target'].astype('category')\n",
    "#target_cat_label = dict(enumerate(data.target.categories))\n",
    "\n",
    "# Change categorical variables to numerical\n",
    "data['target'] = data['target'].astype('category').cat.codes\n",
    "# data['target'] = data['target'].map(target_cat_label)\n",
    "\n",
    "target = data['target']\n",
    "del data['target']\n",
    "y = target\n",
    "\n",
    "# Normalize features\n",
    "scaler = StandardScaler()\n",
    "df = pd.DataFrame(scaler.fit_transform(data), columns = data.columns)\n",
    "\n",
    "# Min Max features\n",
    "min_scaler = MinMaxScaler()\n",
    "df2 = pd.DataFrame(min_scaler.fit_transform(data), columns = data.columns)\n",
    "\n",
    "feature_name = list(df.columns)"
   ]
  },
  {
   "cell_type": "markdown",
   "metadata": {},
   "source": [
    "# Filter Methods\n",
    "\n",
    "Filter methods consider relationship between features and target variable\n",
    "\n",
    "# Pearson Correlation\n",
    "\n",
    "Pearson correlation usually works best with all numerical variables. Binary variables may (will) cause some issues, especially if there are more binary/categorical than numeric."
   ]
  },
  {
   "cell_type": "code",
   "execution_count": 13,
   "metadata": {},
   "outputs": [
    {
     "name": "stdout",
     "output_type": "stream",
     "text": [
      "50 selected features\n"
     ]
    },
    {
     "name": "stderr",
     "output_type": "stream",
     "text": [
      "C:\\Users\\halfc\\anaconda3\\lib\\site-packages\\numpy\\lib\\function_base.py:2534: RuntimeWarning: invalid value encountered in true_divide\n",
      "  c /= stddev[:, None]\n",
      "C:\\Users\\halfc\\anaconda3\\lib\\site-packages\\numpy\\lib\\function_base.py:2535: RuntimeWarning: invalid value encountered in true_divide\n",
      "  c /= stddev[None, :]\n"
     ]
    }
   ],
   "source": [
    "def cor_selector(X, y, num_feats):\n",
    "    cor_list = []\n",
    "    feature_name = X.columns.tolist()\n",
    "    # calculate the correlation with y for each feature\n",
    "    for i in X.columns.tolist():\n",
    "        cor = np.corrcoef(X[i], y)[0,1]\n",
    "        cor_list.append(cor)\n",
    "    # Replace NaN with 0\n",
    "    cor_list = [0 if np.isnan(i) else i for i in cor_list]\n",
    "    # Feature name\n",
    "    cor_feature = X.iloc[:, np.argsort(np.abs(cor_list))[-num_feats:]].columns.tolist()\n",
    "    # Feature selection? 0 for not select, 1 for select\n",
    "    cor_support = [True if i in cor_feature else False for i in feature_name]\n",
    "    return cor_support, cor_feature\n",
    "cor_support, cor_feature = cor_selector(df, y, num_feats)\n",
    "print(str(len(cor_feature)), 'selected features')\n",
    "    "
   ]
  },
  {
   "cell_type": "code",
   "execution_count": 14,
   "metadata": {},
   "outputs": [
    {
     "data": {
      "text/plain": [
       "['pd_avg_interceptions',\n",
       " 'ld_plays',\n",
       " 'ld_opp_outcome_fumble_lost',\n",
       " 'def_lolb',\n",
       " 'Dome',\n",
       " 'off_hb',\n",
       " 'pd_average_plays',\n",
       " 'ld_outcome_punt',\n",
       " 'off_qb',\n",
       " 'game_seconds_remaining',\n",
       " 'play_type_pass',\n",
       " 'air_yards',\n",
       " 'off_lt',\n",
       " 'ld_opp_outcome_interception',\n",
       " 'pd_pass_completion_pct',\n",
       " 'ld_opp_outcome_no_ld',\n",
       " 'qb_scramble',\n",
       " 'game_half',\n",
       " 'play_type_run',\n",
       " 'pd_average_sacks',\n",
       " 'ld_outcome_turnover_on_downs',\n",
       " 'ld_outcome_no_ld',\n",
       " 'off_wr',\n",
       " 'ld_opp_outcome_field_goal',\n",
       " 'play_type_qb_spike',\n",
       " 'qb_spike',\n",
       " 'pd_run_percentage',\n",
       " 'pd_average_points',\n",
       " 'ld_opp_outcome_touchdown',\n",
       " 'pd_passer_rating',\n",
       " 'ld_expl_run',\n",
       " 'down',\n",
       " 'play_end_total_ydstogo',\n",
       " 'ep',\n",
       " 'pd_expl_run',\n",
       " 'ld_start_yds_to_go',\n",
       " 'ld_opp_outcome_turnover_on_downs',\n",
       " 'ydsnet',\n",
       " 'sack',\n",
       " 'play_end_first_down_ydstogo',\n",
       " 'no_huddle',\n",
       " 'ydstogo',\n",
       " 'yards_after_catch',\n",
       " 'shotgun',\n",
       " 'def_team_pts_scored_vs_pace',\n",
       " 'pts_scored_vs_pace',\n",
       " 'adj_wp',\n",
       " 'score_differential',\n",
       " 'yards_gained',\n",
       " 'epa']"
      ]
     },
     "execution_count": 14,
     "metadata": {},
     "output_type": "execute_result"
    }
   ],
   "source": [
    "cor_feature"
   ]
  },
  {
   "cell_type": "markdown",
   "metadata": {},
   "source": [
    "# Chi-Squared (Classification)\n",
    "\n",
    "Use calculated Chi-Squared to find feature set with the best scores. Only use for classification problems!"
   ]
  },
  {
   "cell_type": "code",
   "execution_count": 22,
   "metadata": {},
   "outputs": [
    {
     "name": "stdout",
     "output_type": "stream",
     "text": [
      "50 selected features\n"
     ]
    }
   ],
   "source": [
    "if classification_toggle == 1:\n",
    "    from sklearn.feature_selection import SelectKBest, chi2\n",
    "    \n",
    "    chi_selector = SelectKBest(chi2, k = num_feats)\n",
    "    chi_selector.fit(df2, y)\n",
    "    chi_support = chi_selector.get_support()\n",
    "    chi_feature = df.loc[:,chi_support].columns.tolist()\n",
    "    print(str(len(chi_feature)), 'selected features')\n",
    "else:\n",
    "    None"
   ]
  },
  {
   "cell_type": "code",
   "execution_count": 24,
   "metadata": {},
   "outputs": [
    {
     "data": {
      "text/plain": [
       "['game_seconds_remaining',\n",
       " 'game_half',\n",
       " 'down',\n",
       " 'ydstogo',\n",
       " 'ydsnet',\n",
       " 'yards_gained',\n",
       " 'shotgun',\n",
       " 'no_huddle',\n",
       " 'qb_dropback',\n",
       " 'qb_spike',\n",
       " 'qb_scramble',\n",
       " 'score_differential',\n",
       " 'ep',\n",
       " 'epa',\n",
       " 'sack',\n",
       " 'fumble',\n",
       " 'Snow',\n",
       " 'Dome',\n",
       " 'off_lt',\n",
       " 'off_qb',\n",
       " 'pts_scored_vs_pace',\n",
       " 'def_team_pts_scored_vs_pace',\n",
       " 'adj_wp',\n",
       " 'play_end_first_down_ydstogo',\n",
       " 'play_end_total_ydstogo',\n",
       " 'ld_expl_run',\n",
       " 'ld_expl_pass',\n",
       " 'ld_start_yds_to_go',\n",
       " 'pd_expl_run',\n",
       " 'pd_average_points',\n",
       " 'pd_average_sacks',\n",
       " 'pd_avg_interceptions',\n",
       " 'pd_passer_rating',\n",
       " 'pd_run_percentage',\n",
       " 'pd_pass_completion_pct',\n",
       " 'play_type_pass',\n",
       " 'play_type_qb_spike',\n",
       " 'play_type_run',\n",
       " 'ld_outcome_fumble_lost',\n",
       " 'ld_outcome_interception',\n",
       " 'ld_outcome_no_ld',\n",
       " 'ld_outcome_punt',\n",
       " 'ld_outcome_touchdown',\n",
       " 'ld_outcome_turnover_on_downs',\n",
       " 'ld_opp_outcome_field_goal',\n",
       " 'ld_opp_outcome_fumble_lost',\n",
       " 'ld_opp_outcome_interception',\n",
       " 'ld_opp_outcome_no_ld',\n",
       " 'ld_opp_outcome_touchdown',\n",
       " 'ld_opp_outcome_turnover_on_downs']"
      ]
     },
     "execution_count": 24,
     "metadata": {},
     "output_type": "execute_result"
    }
   ],
   "source": [
    "chi_feature"
   ]
  },
  {
   "cell_type": "markdown",
   "metadata": {},
   "source": [
    "# F-Test (Regression)\n",
    "\n",
    "Least Squares F-Test. Essentially, run a linear regression and test model and feature significance"
   ]
  },
  {
   "cell_type": "code",
   "execution_count": 32,
   "metadata": {},
   "outputs": [
    {
     "name": "stdout",
     "output_type": "stream",
     "text": [
      "50 selected features\n"
     ]
    },
    {
     "name": "stderr",
     "output_type": "stream",
     "text": [
      "C:\\Users\\halfc\\anaconda3\\lib\\site-packages\\sklearn\\feature_selection\\_univariate_selection.py:115: UserWarning: Features [70] are constant.\n",
      "  UserWarning)\n",
      "C:\\Users\\halfc\\anaconda3\\lib\\site-packages\\sklearn\\feature_selection\\_univariate_selection.py:116: RuntimeWarning: invalid value encountered in true_divide\n",
      "  f = msb / msw\n"
     ]
    }
   ],
   "source": [
    "from sklearn.feature_selection import f_regression, f_classif\n",
    "\n",
    "if classification_toggle == 0:\n",
    "    f_selector = SelectKBest(f_regression, k = num_feats)\n",
    "    f_selector.fit(df,y)\n",
    "    f_support = f_selector.get_support()\n",
    "    f_feature = df.loc[:,f_support].columns.tolist()\n",
    "    print(str(len(f_feature)), 'selected features')\n",
    "else:\n",
    "    X_indices = np.arange(df.shape[-1])\n",
    "    f_selector = SelectKBest(f_classif, k = num_feats)\n",
    "    f_selector.fit(df, y)\n",
    "    f_support = f_selector.get_support()\n",
    "    f_feature = df.loc[:,f_support].columns.tolist()\n",
    "    print(str(len(f_feature)), 'selected features')\n"
   ]
  },
  {
   "cell_type": "code",
   "execution_count": 33,
   "metadata": {},
   "outputs": [
    {
     "data": {
      "text/plain": [
       "['game_seconds_remaining',\n",
       " 'game_half',\n",
       " 'down',\n",
       " 'ydstogo',\n",
       " 'ydsnet',\n",
       " 'yards_gained',\n",
       " 'shotgun',\n",
       " 'no_huddle',\n",
       " 'qb_spike',\n",
       " 'qb_scramble',\n",
       " 'air_yards',\n",
       " 'yards_after_catch',\n",
       " 'score_differential',\n",
       " 'ep',\n",
       " 'epa',\n",
       " 'sack',\n",
       " 'Dome',\n",
       " 'off_hb',\n",
       " 'off_lt',\n",
       " 'off_qb',\n",
       " 'off_wr',\n",
       " 'def_lolb',\n",
       " 'pts_scored_vs_pace',\n",
       " 'def_team_pts_scored_vs_pace',\n",
       " 'adj_wp',\n",
       " 'play_end_first_down_ydstogo',\n",
       " 'play_end_total_ydstogo',\n",
       " 'ld_plays',\n",
       " 'ld_expl_run',\n",
       " 'ld_start_yds_to_go',\n",
       " 'pd_expl_run',\n",
       " 'pd_average_points',\n",
       " 'pd_average_plays',\n",
       " 'pd_average_sacks',\n",
       " 'pd_avg_interceptions',\n",
       " 'pd_passer_rating',\n",
       " 'pd_run_percentage',\n",
       " 'pd_pass_completion_pct',\n",
       " 'play_type_pass',\n",
       " 'play_type_qb_spike',\n",
       " 'play_type_run',\n",
       " 'ld_outcome_no_ld',\n",
       " 'ld_outcome_punt',\n",
       " 'ld_outcome_turnover_on_downs',\n",
       " 'ld_opp_outcome_field_goal',\n",
       " 'ld_opp_outcome_fumble_lost',\n",
       " 'ld_opp_outcome_interception',\n",
       " 'ld_opp_outcome_no_ld',\n",
       " 'ld_opp_outcome_touchdown',\n",
       " 'ld_opp_outcome_turnover_on_downs']"
      ]
     },
     "execution_count": 33,
     "metadata": {},
     "output_type": "execute_result"
    }
   ],
   "source": [
    "f_feature"
   ]
  },
  {
   "cell_type": "markdown",
   "metadata": {},
   "source": [
    "# Mutual Information\n",
    "\n",
    "Measures the dependence of one variable to another. Has relative advantage over F-Test because it can contend with non-linear relationships"
   ]
  },
  {
   "cell_type": "code",
   "execution_count": 34,
   "metadata": {},
   "outputs": [
    {
     "name": "stdout",
     "output_type": "stream",
     "text": [
      "50 selected features\n"
     ]
    }
   ],
   "source": [
    "from sklearn.feature_selection import mutual_info_regression, mutual_info_classif\n",
    "\n",
    "if classification_toggle == 0:\n",
    "    mutual_selector = SelectKBest(mutual_info_regression, k = num_feats)\n",
    "    mutual_selector.fit(df, y)\n",
    "    mutual_support = mutual_selector.get_support()\n",
    "    mutual_feature = df.loc[:, mutual_support].columns.tolist()\n",
    "    print(str(len(mutual_feature)), 'selected features')\n",
    "else:\n",
    "    mutual_selector = SelectKBest(mutual_info_classif, k = num_feats)\n",
    "    mutual_selector.fit(df, y)\n",
    "    mutual_support = mutual_selector.get_support()\n",
    "    mutual_feature = df.loc[:, mutual_support].columns.tolist()\n",
    "    print(str(len(mutual_feature)), 'selected features')"
   ]
  },
  {
   "cell_type": "code",
   "execution_count": 35,
   "metadata": {},
   "outputs": [
    {
     "data": {
      "text/plain": [
       "['game_seconds_remaining',\n",
       " 'game_half',\n",
       " 'qtr',\n",
       " 'down',\n",
       " 'ydstogo',\n",
       " 'ydsnet',\n",
       " 'yards_gained',\n",
       " 'shotgun',\n",
       " 'no_huddle',\n",
       " 'qb_dropback',\n",
       " 'yards_after_catch',\n",
       " 'score_differential',\n",
       " 'ep',\n",
       " 'epa',\n",
       " 'sack',\n",
       " 'Rain',\n",
       " 'Wind',\n",
       " 'Dome',\n",
       " 'GameMonth',\n",
       " 'pts_scored_vs_pace',\n",
       " 'def_team_pts_scored_vs_pace',\n",
       " 'adj_wp',\n",
       " 'ld_expl_run',\n",
       " 'ld_expl_pass',\n",
       " 'pd_expl_run',\n",
       " 'pd_average_points',\n",
       " 'pd_average_top',\n",
       " 'pd_average_sacks',\n",
       " 'pd_average_tfl',\n",
       " 'pd_avg_interceptions',\n",
       " 'pd_passer_rating',\n",
       " 'pd_run_percentage',\n",
       " 'pd_pass_yard_att',\n",
       " 'pd_rush_yard_att',\n",
       " 'home',\n",
       " 'play_type_pass',\n",
       " 'play_type_run',\n",
       " 'ld_outcome_field_goal',\n",
       " 'ld_outcome_fumble_lost',\n",
       " 'ld_outcome_interception',\n",
       " 'ld_outcome_no_ld',\n",
       " 'ld_outcome_punt',\n",
       " 'ld_outcome_touchdown',\n",
       " 'ld_opp_outcome_end_of_half',\n",
       " 'ld_opp_outcome_field_goal',\n",
       " 'ld_opp_outcome_fumble_lost',\n",
       " 'ld_opp_outcome_no_ld',\n",
       " 'ld_opp_outcome_punt',\n",
       " 'ld_opp_outcome_touchdown',\n",
       " 'ld_opp_outcome_turnover_on_downs']"
      ]
     },
     "execution_count": 35,
     "metadata": {},
     "output_type": "execute_result"
    }
   ],
   "source": [
    "mutual_feature"
   ]
  },
  {
   "cell_type": "markdown",
   "metadata": {},
   "source": [
    "# Variance Threshold\n",
    "\n",
    "Variance threshold identifies features with variations below a certain cutoff point. The intuition is - if a feature doesn't vary too much, we assume it doesn't have a lot of predictive power.\n",
    "\n",
    "NOTE: This metric does not consider relationship of the feature and the target variable"
   ]
  },
  {
   "cell_type": "code",
   "execution_count": 37,
   "metadata": {},
   "outputs": [
    {
     "data": {
      "text/plain": [
       "VarianceThreshold()"
      ]
     },
     "execution_count": 37,
     "metadata": {},
     "output_type": "execute_result"
    }
   ],
   "source": [
    "from sklearn.feature_selection import VarianceThreshold\n",
    "selector = VarianceThreshold()\n",
    "selector.fit(df)"
   ]
  },
  {
   "cell_type": "code",
   "execution_count": 38,
   "metadata": {},
   "outputs": [
    {
     "data": {
      "text/plain": [
       "['yardline_100',\n",
       " 'game_seconds_remaining',\n",
       " 'game_half',\n",
       " 'qtr',\n",
       " 'down',\n",
       " 'ydstogo',\n",
       " 'ydsnet',\n",
       " 'yards_gained',\n",
       " 'shotgun',\n",
       " 'no_huddle',\n",
       " 'qb_dropback',\n",
       " 'qb_spike',\n",
       " 'qb_scramble',\n",
       " 'air_yards',\n",
       " 'yards_after_catch',\n",
       " 'score_differential',\n",
       " 'ep',\n",
       " 'epa',\n",
       " 'sack',\n",
       " 'fumble',\n",
       " 'Rain',\n",
       " 'Snow',\n",
       " 'Wind',\n",
       " 'Fog',\n",
       " 'Dome',\n",
       " 'GameMonth',\n",
       " 'off_c',\n",
       " 'off_hb',\n",
       " 'off_lg',\n",
       " 'off_lt',\n",
       " 'off_qb',\n",
       " 'off_rg',\n",
       " 'off_rt',\n",
       " 'off_te',\n",
       " 'off_wr',\n",
       " 'def_cb',\n",
       " 'def_dt',\n",
       " 'def_fs',\n",
       " 'def_le',\n",
       " 'def_lolb',\n",
       " 'def_mlb',\n",
       " 'def_re',\n",
       " 'def_rolb',\n",
       " 'def_ss',\n",
       " 'pts_scored_vs_pace',\n",
       " 'def_team_pts_scored_vs_pace',\n",
       " 'adj_wp',\n",
       " 'play_end_first_down_ydstogo',\n",
       " 'play_end_total_ydstogo',\n",
       " 'ld_plays',\n",
       " 'ld_drive_length',\n",
       " 'ld_expl_run',\n",
       " 'ld_expl_pass',\n",
       " 'ld_start_yds_to_go',\n",
       " 'pd_expl_pass',\n",
       " 'pd_expl_run',\n",
       " 'pd_average_points',\n",
       " 'pd_average_plays',\n",
       " 'pd_average_top',\n",
       " 'pd_average_sacks',\n",
       " 'pd_average_tfl',\n",
       " 'pd_avg_interceptions',\n",
       " 'pd_passer_rating',\n",
       " 'pd_run_percentage',\n",
       " 'pd_pass_yard_att',\n",
       " 'pd_rush_yard_att',\n",
       " 'pd_pass_completion_pct',\n",
       " 'home',\n",
       " 'play_type_field_goal',\n",
       " 'play_type_pass',\n",
       " 'play_type_qb_kneel',\n",
       " 'play_type_qb_spike',\n",
       " 'play_type_run',\n",
       " 'ld_outcome_end_of_half',\n",
       " 'ld_outcome_field_goal',\n",
       " 'ld_outcome_fumble_lost',\n",
       " 'ld_outcome_interception',\n",
       " 'ld_outcome_no_ld',\n",
       " 'ld_outcome_punt',\n",
       " 'ld_outcome_touchdown',\n",
       " 'ld_outcome_turnover_on_downs',\n",
       " 'ld_opp_outcome_end_of_half',\n",
       " 'ld_opp_outcome_field_goal',\n",
       " 'ld_opp_outcome_fumble_lost',\n",
       " 'ld_opp_outcome_interception',\n",
       " 'ld_opp_outcome_no_ld',\n",
       " 'ld_opp_outcome_punt',\n",
       " 'ld_opp_outcome_touchdown',\n",
       " 'ld_opp_outcome_turnover_on_downs']"
      ]
     },
     "execution_count": 38,
     "metadata": {},
     "output_type": "execute_result"
    }
   ],
   "source": [
    "variance_selectors = selector.get_support()\n",
    "variance_selectors\n",
    "variance_features = list(df.columns[np.array(variance_selectors).astype(bool)])\n",
    "variance_features"
   ]
  },
  {
   "cell_type": "code",
   "execution_count": 39,
   "metadata": {},
   "outputs": [
    {
     "data": {
      "text/plain": [
       "[('yardline_100', 0.9999999999999997),\n",
       " ('game_seconds_remaining', 1.0000000000000002),\n",
       " ('game_half', 1.0000000000000007),\n",
       " ('qtr', 0.9999999999999997),\n",
       " ('down', 0.9999999999999992),\n",
       " ('ydstogo', 1.0000000000000002),\n",
       " ('ydsnet', 1.0),\n",
       " ('yards_gained', 0.9999999999999999),\n",
       " ('shotgun', 1.0),\n",
       " ('no_huddle', 0.9999999999999999),\n",
       " ('qb_dropback', 1.0000000000000007),\n",
       " ('qb_spike', 1.000000000000001),\n",
       " ('qb_scramble', 1.0),\n",
       " ('air_yards', 1.0),\n",
       " ('yards_after_catch', 1.0000000000000002),\n",
       " ('score_differential', 1.0),\n",
       " ('ep', 1.0),\n",
       " ('epa', 1.0),\n",
       " ('sack', 1.0000000000000002),\n",
       " ('fumble', 1.0000000000000007),\n",
       " ('Rain', 1.0),\n",
       " ('Snow', 1.0000000000000002),\n",
       " ('Wind', 0.9999999999999999),\n",
       " ('Fog', 1.0000000000000007),\n",
       " ('Dome', 0.9999999999999997),\n",
       " ('GameMonth', 1.0),\n",
       " ('off_c', 1.0000000000000002),\n",
       " ('off_hb', 0.9999999999999996),\n",
       " ('off_lg', 1.0),\n",
       " ('off_lt', 1.0000000000000002),\n",
       " ('off_qb', 1.0),\n",
       " ('off_rg', 1.0000000000000002),\n",
       " ('off_rt', 1.0),\n",
       " ('off_te', 1.0000000000000002),\n",
       " ('off_wr', 0.9999999999999999),\n",
       " ('def_cb', 1.0000000000000002),\n",
       " ('def_dt', 0.9999999999999999),\n",
       " ('def_fs', 1.0000000000000002),\n",
       " ('def_le', 0.9999999999999999),\n",
       " ('def_lolb', 1.0000000000000002),\n",
       " ('def_mlb', 0.9999999999999997),\n",
       " ('def_re', 1.0000000000000002),\n",
       " ('def_rolb', 0.9999999999999997),\n",
       " ('def_ss', 0.9999999999999999),\n",
       " ('pts_scored_vs_pace', 1.0000000000000002),\n",
       " ('def_team_pts_scored_vs_pace', 0.9999999999999997),\n",
       " ('adj_wp', 1.0000000000000002),\n",
       " ('play_end_first_down_ydstogo', 1.0),\n",
       " ('play_end_total_ydstogo', 0.9999999999999999),\n",
       " ('ld_plays', 0.9999999999999997),\n",
       " ('ld_drive_length', 1.0),\n",
       " ('ld_expl_run', 0.9999999999999999),\n",
       " ('ld_expl_pass', 1.0000000000000002),\n",
       " ('ld_start_yds_to_go', 0.9999999999999996),\n",
       " ('pd_expl_pass', 1.0000000000000002),\n",
       " ('pd_expl_run', 1.0000000000000004),\n",
       " ('pd_average_points', 1.0000000000000002),\n",
       " ('pd_average_plays', 1.0),\n",
       " ('pd_average_top', 1.0000000000000002),\n",
       " ('pd_average_sacks', 0.9999999999999997),\n",
       " ('pd_average_tfl', 1.0),\n",
       " ('pd_avg_interceptions', 0.9999999999999996),\n",
       " ('pd_passer_rating', 0.9999999999999999),\n",
       " ('pd_run_percentage', 1.0000000000000002),\n",
       " ('pd_pass_yard_att', 0.9999999999999997),\n",
       " ('pd_rush_yard_att', 0.9999999999999999),\n",
       " ('pd_pass_completion_pct', 1.0000000000000002),\n",
       " ('home', 1.0),\n",
       " ('play_type_field_goal', 1.0000000000000013),\n",
       " ('play_type_pass', 0.9999999999999997),\n",
       " ('play_type_punt', 0.0),\n",
       " ('play_type_qb_kneel', 0.9999999999999987),\n",
       " ('play_type_qb_spike', 1.000000000000001),\n",
       " ('play_type_run', 1.0),\n",
       " ('ld_outcome_end_of_half', 0.9999999999999997),\n",
       " ('ld_outcome_field_goal', 0.9999999999999997),\n",
       " ('ld_outcome_fumble_lost', 1.0),\n",
       " ('ld_outcome_interception', 0.9999999999999996),\n",
       " ('ld_outcome_no_ld', 0.9999999999999999),\n",
       " ('ld_outcome_punt', 1.0000000000000004),\n",
       " ('ld_outcome_touchdown', 0.9999999999999999),\n",
       " ('ld_outcome_turnover_on_downs', 0.9999999999999997),\n",
       " ('ld_opp_outcome_end_of_half', 1.0),\n",
       " ('ld_opp_outcome_field_goal', 0.9999999999999999),\n",
       " ('ld_opp_outcome_fumble_lost', 1.0000000000000002),\n",
       " ('ld_opp_outcome_interception', 1.0),\n",
       " ('ld_opp_outcome_no_ld', 1.0000000000000002),\n",
       " ('ld_opp_outcome_punt', 1.0),\n",
       " ('ld_opp_outcome_touchdown', 1.0),\n",
       " ('ld_opp_outcome_turnover_on_downs', 1.0000000000000002)]"
      ]
     },
     "execution_count": 39,
     "metadata": {},
     "output_type": "execute_result"
    }
   ],
   "source": [
    "tups = []\n",
    "\n",
    "for c in enumerate(df.columns):\n",
    "    tups.append((c[1], selector.variances_[c[0]]))\n",
    "    \n",
    "tups"
   ]
  },
  {
   "cell_type": "markdown",
   "metadata": {},
   "source": [
    "# Recursive Feature Elimination\n",
    "\n",
    "Eliminates worst performing features one after another until a best subset is known"
   ]
  },
  {
   "cell_type": "code",
   "execution_count": 41,
   "metadata": {},
   "outputs": [],
   "source": [
    "from sklearn.feature_selection import RFE\n",
    "from sklearn.ensemble import GradientBoostingClassifier\n",
    "\n",
    "clf=GradientBoostingClassifier(n_estimators = 800, \n",
    "                               loss = 'exponential', \n",
    "                               learning_rate = 0.01, \n",
    "                               max_depth = 7, \n",
    "                               min_samples_split = 50, \n",
    "                               min_samples_leaf = 64,\n",
    "                               max_features = 'auto')\n",
    "rfe_selector = RFE(estimator = clf, n_features_to_select = num_feats, step = 10, verbose = 5)\n",
    "rfe_selector.fit(x, y)"
   ]
  },
  {
   "cell_type": "code",
   "execution_count": null,
   "metadata": {},
   "outputs": [],
   "source": []
  }
 ],
 "metadata": {
  "kernelspec": {
   "display_name": "Python 3",
   "language": "python",
   "name": "python3"
  },
  "language_info": {
   "codemirror_mode": {
    "name": "ipython",
    "version": 3
   },
   "file_extension": ".py",
   "mimetype": "text/x-python",
   "name": "python",
   "nbconvert_exporter": "python",
   "pygments_lexer": "ipython3",
   "version": "3.7.6"
  }
 },
 "nbformat": 4,
 "nbformat_minor": 4
}
